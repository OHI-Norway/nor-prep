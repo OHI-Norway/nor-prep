{
 "cells": [
  {
   "cell_type": "markdown",
   "metadata": {},
   "source": [
    "# Pre-formatting aquculture production tables"
   ]
  },
  {
   "cell_type": "markdown",
   "metadata": {},
   "source": [
    "## Total production (salmon and trout biomass)"
   ]
  },
  {
   "cell_type": "code",
   "execution_count": null,
   "metadata": {},
   "outputs": [],
   "source": [
    "*create library ohi and the path - shortcut to read files;\n",
    "\n",
    "%let ohi_path=/folders/myshortcuts/ohi_raw;\n",
    "libname ohi base \"&ohi_path/SAS_data_mining/Output_files\";\n",
    "\n",
    "options validVarName=any;\n",
    "libname xlakva xlsx \"&ohi_path/akva/Production_data_unlocked/16_1687_PeFau_OHI_studie_GRLdata_kryptert_biom.xlsx\";\n",
    "libname xlakva2 xlsx \"&ohi_path/akva/Production_data_unlocked/18_6306_GRLdata_Biomasse_2015-2016_Kryptert.xlsx\";\n",
    "\n",
    "\n",
    "*Check the variables and their attirubtes;\n",
    "ods pdf file=\"&ohi_path/akva_biomass_tables.pdf\"\n",
    "\t\tstartpage=no style=journal;\n",
    "proc contents data=xlakva.2011;\t\n",
    "run;\n",
    "\n",
    "proc contents data=xlakva2.2015;\t\n",
    "run;\n",
    "ods pdf close;"
   ]
  },
  {
   "cell_type": "code",
   "execution_count": null,
   "metadata": {},
   "outputs": [],
   "source": [
    "*Concatenate biomass tables for years 2005-2014 and 2015-2016;\n",
    "\n",
    "data ohi.akva_biomass_2005_2016;\n",
    "\tset xlfeed.\"2005\"n\n",
    "\t\txlfeed.\"2006\"n\n",
    "\t\txlfeed.\"2007\"n\n",
    "\t\txlfeed.\"2008\"n\n",
    "\t\txlfeed.\"2009\"n\n",
    "\t\txlfeed.\"2010\"n\n",
    "\t\txlfeed.\"2011\"n\n",
    "\t\txlfeed.\"2012\"n\n",
    "\t\txlfeed.\"2013\"n\n",
    "\t\txlfeed.\"2014\"n\n",
    "\t\txlfeed2.\"2015\"n\n",
    "\t\txlfeed2.\"2016\"n;\n",
    "\tformat LAKS: REGN: 20.3;\n",
    "run;\t\n",
    "\n",
    "proc export data=ohi.akva_biomass_2005_2016\n",
    "\toutfile=\"&ohi_path/akva_biomass_2005_2016.csv\" \n",
    "\treplace;\n",
    "run; \n",
    "\n",
    "libname xlakva clear;\n",
    "libname xlakva2 clear;\n"
   ]
  },
  {
   "cell_type": "markdown",
   "metadata": {},
   "source": [
    "## Fish taken from the pens (slaughtered )"
   ]
  },
  {
   "cell_type": "code",
   "execution_count": null,
   "metadata": {},
   "outputs": [],
   "source": [
    "*Concatenate uttak tables for years 2005-2014 and 2015-2916;\n",
    "libname xluttak xlsx \"&ohi_path/akva/Production_data_unlocked/16_1687_PeFau_OHI_studie_GRLdata_kryptert_uttak.xlsx\";\n",
    "libname xluttak2 xlsx \"&ohi_path/akva/Production_data_unlocked/18_6306_GRLdata_Uttak_2015-2016_Kryptert.xlsx\";\n",
    "\n",
    "\n",
    "ods pdf file=\"&ohi_path/akva_uttak_tables.pdf\"\n",
    "\t\tstartpage=no style=Journal3;\n",
    "\t\t\n",
    "proc contents data=xluttak.2005;\t\n",
    "run;\n",
    "\n",
    "proc contents data=xluttak2.2016 (keep=AAR--UTTAK_REGNB_KG);\t\n",
    "run;\n",
    "ods pdf close;"
   ]
  },
  {
   "cell_type": "code",
   "execution_count": null,
   "metadata": {},
   "outputs": [],
   "source": [
    "data ohi.akva_uttak_2005_2016;\n",
    "\tset xluttak.\"2005\"n \n",
    "\t\txluttak.\"2006\"n\n",
    "\t\txluttak.\"2007\"n\n",
    "\t\txluttak.\"2008\"n\n",
    "\t\txluttak.\"2009\"n\n",
    "\t\txluttak.\"2010\"n\n",
    "\t\txluttak.\"2011\"n\n",
    "\t\txluttak.\"2012\"n\n",
    "\t\txluttak.\"2013\"n\n",
    "\t\txluttak.\"2014\"n\n",
    "\t\txluttak2.\"2015\"n\n",
    "\t\txluttak2.\"2016\"n (keep=AAR--UTTAK_REGNB_KG);\t\t\n",
    "\tformat UTTAK_LAKS_KG UTTAK_REGNB_KG 20.3;\n",
    "run;\n",
    "\n",
    "proc export data=ohi.akva_uttak_2005_2016\n",
    "\toutfile=\"&ohi_path/akva_uttak_2005_2016.csv\" \n",
    "\treplace;\n",
    "run;\n",
    "\n",
    "libname xluttak clear;\n",
    "libname xluttak2 clear;"
   ]
  },
  {
   "cell_type": "markdown",
   "metadata": {},
   "source": [
    "## Feed used "
   ]
  },
  {
   "cell_type": "code",
   "execution_count": null,
   "metadata": {},
   "outputs": [],
   "source": [
    "*Concatenate feed used tables for years 2005-2014 and 2015-2016;\n",
    "libname xlfeed xlsx \"&ohi_path/akva/Production_data_unlocked/16_1687_PeFau_OHI_studie_GRLdata_kryptert_forf.xlsx\";\n",
    "libname xlfeed2 xlsx \"&ohi_path/akva/Production_data_unlocked/18_6306_GRLdata_Forforbruk_2015-2016_Kryptert.xlsx\";\n",
    "\n",
    "proc contents data=xlfeed.2005;\t\n",
    "run;\n",
    "\n",
    "proc contents data=xlfeed2.2016;\t\n",
    "run;\n",
    "\n",
    "\n",
    "data ohi.akva_feed_2005_2016;\n",
    "\tset xlfeed.\"2005\"n\n",
    "\txlfeed.\"2005\"n\n",
    "\txlfeed.\"2006\"n\n",
    "\txlfeed.\"2007\"n\n",
    "\txlfeed.\"2008\"n\n",
    "\txlfeed.\"2009\"n\n",
    "\txlfeed.\"2010\"n\n",
    "\txlfeed.\"2011\"n\n",
    "\txlfeed.\"2012\"n\n",
    "\txlfeed.\"2013\"n\n",
    "\txlfeed.\"2014\"n\n",
    "\txlfeed2.\"2015\"n\n",
    "\txlfeed2.\"2016\"n;\t\t\t\t\n",
    "\tformat F__RFORBRUK_KG 20.3;\n",
    "run;"
   ]
  },
  {
   "cell_type": "code",
   "execution_count": null,
   "metadata": {},
   "outputs": [],
   "source": [
    "proc export data=ohi.akva_feed_2005_2016\n",
    "\toutfile=\"&ohi_path/akva_feed_2005_2016.csv\" \n",
    "\treplace;\n",
    "run;\n",
    "\n",
    "libname xlfeed clear;\n",
    "libname xlfeed2 clear;"
   ]
  }
 ],
 "metadata": {
  "kernelspec": {
   "display_name": "SAS",
   "language": "sas",
   "name": "sas"
  },
  "language_info": {
   "codemirror_mode": "sas",
   "file_extension": ".sas",
   "mimetype": "text/x-sas",
   "name": "sas"
  }
 },
 "nbformat": 4,
 "nbformat_minor": 2
}
